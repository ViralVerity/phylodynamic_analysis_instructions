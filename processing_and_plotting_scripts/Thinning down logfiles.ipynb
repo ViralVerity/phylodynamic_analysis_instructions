{
 "cells": [
  {
   "cell_type": "markdown",
   "id": "720c87b7",
   "metadata": {},
   "source": [
    "Ideally, you would use logcombiner to thin down tree files but when there's a lot of sequences this can be inefficient and it is easier to use python/R\n",
    "\n",
    "Logfiles can still be done in logcombiner"
   ]
  },
  {
   "cell_type": "code",
   "execution_count": 70,
   "id": "091d7547",
   "metadata": {},
   "outputs": [],
   "source": [
    "import csv\n",
    "import tqdm as tqdm\n",
    "import baltic"
   ]
  },
  {
   "cell_type": "code",
   "execution_count": 127,
   "id": "e7cc5335",
   "metadata": {},
   "outputs": [
    {
     "name": "stderr",
     "output_type": "stream",
     "text": [
      "49229it [00:59, 823.88it/s]   \n"
     ]
    }
   ],
   "source": [
    "burnin = 10\n",
    "downsample_percentage = 10\n",
    "ntax = 19608\n",
    "num_tax_lines = (2*ntax)+11\n",
    "\n",
    "all_states = []\n",
    "start_lines = []\n",
    "end_lines = []\n",
    "\n",
    "actually_all = []\n",
    "\n",
    "file_to_thin = \"\"\n",
    "\n",
    "count = 0\n",
    "with open(file_to_thin) as f:\n",
    "    for l in tqdm.tqdm(f):\n",
    "        actually_all.append(l)\n",
    "        \n",
    "        if count < num_tax_lines:\n",
    "            start_lines.append(l)\n",
    "        else:\n",
    "            if \"STATE\" in l:\n",
    "                all_states.append(l)\n",
    "            else:\n",
    "                end_lines.append(l)\n",
    "        count += 1\n"
   ]
  },
  {
   "cell_type": "code",
   "execution_count": 133,
   "id": "ac5fcfdc",
   "metadata": {},
   "outputs": [
    {
     "name": "stderr",
     "output_type": "stream",
     "text": [
      "10001it [00:00, 1252604.94it/s]\n"
     ]
    }
   ],
   "source": [
    "num_states = len(all_states)\n",
    "first_state = int(len(all_states)/burnin)\n",
    "\n",
    "count2 = downsample_percentage\n",
    "\n",
    "thinned = []\n",
    "\n",
    "for count, state in tqdm.tqdm(enumerate(all_states)):\n",
    "    if count >= first_state:\n",
    "        if count2 < downsample_percentage:\n",
    "            count2 += 1\n",
    "            pass\n",
    "        else:\n",
    "            thinned.append(state)\n",
    "            count2 = 1\n"
   ]
  },
  {
   "cell_type": "code",
   "execution_count": 134,
   "id": "2f6a930f",
   "metadata": {},
   "outputs": [
    {
     "name": "stdout",
     "output_type": "stream",
     "text": [
      "10001\n",
      "91\n"
     ]
    }
   ],
   "source": [
    "print(len(all_states))\n",
    "print(len(thinned))"
   ]
  },
  {
   "cell_type": "code",
   "execution_count": 135,
   "id": "cbf2b728",
   "metadata": {},
   "outputs": [],
   "source": [
    "output_file = \"\"\n",
    "\n",
    "with open(output_file, 'w') as fw:\n",
    "    for i in start_lines:\n",
    "        fw.write(i)\n",
    "    for i in thinned:\n",
    "        fw.write(i)\n",
    "    for i in end_lines:\n",
    "        fw.write(i)"
   ]
  },
  {
   "cell_type": "code",
   "execution_count": null,
   "id": "30500bb5",
   "metadata": {},
   "outputs": [],
   "source": []
  }
 ],
 "metadata": {
  "kernelspec": {
   "display_name": "Python 3 (ipykernel)",
   "language": "python",
   "name": "python3"
  },
  "language_info": {
   "codemirror_mode": {
    "name": "ipython",
    "version": 3
   },
   "file_extension": ".py",
   "mimetype": "text/x-python",
   "name": "python",
   "nbconvert_exporter": "python",
   "pygments_lexer": "ipython3",
   "version": "3.9.5"
  }
 },
 "nbformat": 4,
 "nbformat_minor": 5
}
