{
 "cells": [
  {
   "cell_type": "markdown",
   "id": "ebbc0b91",
   "metadata": {},
   "source": [
    "You can either get a single tree from using treeannotator to get an MCC tree, or if you're working with a larger dataset, pick one, maybe based on the number of introductions into the location of interest"
   ]
  },
  {
   "cell_type": "code",
   "execution_count": 1,
   "id": "4243bbb7",
   "metadata": {},
   "outputs": [],
   "source": [
    "import csv\n",
    "from collections import defaultdict\n",
    "from collections import Counter\n",
    "import baltic\n",
    "import matplotlib.pyplot as plt\n",
    "import geopandas as gpd\n",
    "import tqdm\n",
    "import numpy as np\n",
    "import dendropy\n",
    "import seaborn as sns\n",
    "import scipy\n",
    "import matplotlib.patches as mpatches\n"
   ]
  },
  {
   "cell_type": "code",
   "execution_count": null,
   "id": "4b2e567c",
   "metadata": {},
   "outputs": [],
   "source": []
  }
 ],
 "metadata": {
  "kernelspec": {
   "display_name": "Python 3 (ipykernel)",
   "language": "python",
   "name": "python3"
  },
  "language_info": {
   "codemirror_mode": {
    "name": "ipython",
    "version": 3
   },
   "file_extension": ".py",
   "mimetype": "text/x-python",
   "name": "python",
   "nbconvert_exporter": "python",
   "pygments_lexer": "ipython3",
   "version": "3.9.5"
  }
 },
 "nbformat": 4,
 "nbformat_minor": 5
}
