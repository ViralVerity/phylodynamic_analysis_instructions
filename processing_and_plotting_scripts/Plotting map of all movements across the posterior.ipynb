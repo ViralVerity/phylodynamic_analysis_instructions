{
 "cells": [
  {
   "cell_type": "markdown",
   "id": "793d3a4a",
   "metadata": {},
   "source": [
    "To generate the input file here, use the BEAST software called  TreeMarkovJumpHistoryAnalyzer (command in same folder in repo). Make sure you remove burnin in at that stage because we are assuming it has been removed for these commands"
   ]
  },
  {
   "cell_type": "code",
   "execution_count": 1,
   "id": "849d12f5",
   "metadata": {},
   "outputs": [],
   "source": [
    "import csv\n",
    "from collections import defaultdict\n",
    "from collections import Counter\n",
    "import baltic\n",
    "import matplotlib.pyplot as plt\n",
    "import geopandas as gpd\n",
    "import tqdm\n",
    "import numpy as np\n",
    "import dendropy\n",
    "import seaborn as sns\n",
    "import geopandas as gpd\n",
    "import matplotlib.patches as mpatches\n",
    "import matplotlib as mpl\n",
    "\n",
    "font = {'family' : 'Helvetica',\n",
    "'weight' : 'bold',\n",
    "'size' : 18}\n",
    "mpl.rcParams.update({\"svg.fonttype\": 'none', 'text.usetex': False})"
   ]
  },
  {
   "cell_type": "code",
   "execution_count": 5,
   "id": "8bfb2cd6",
   "metadata": {},
   "outputs": [],
   "source": [
    "markov_file = \"\"\n",
    "map_file = gpd.read_file(\"\") #map json - I recommend gadm.org\n",
    "\n",
    "name_of_resolution = \"\" #eg \"state\" if that's what level you're plotting at and that's what it's called in the map json"
   ]
  },
  {
   "cell_type": "code",
   "execution_count": 2,
   "id": "828e148d",
   "metadata": {},
   "outputs": [],
   "source": [
    "def parse_jumps(markov_file):\n",
    "\n",
    "    all_tree_movements = defaultdict(list)\n",
    "\n",
    "    with open(markov_file) as f:\n",
    "        data = csv.DictReader(f)\n",
    "        for l in tqdm.tqdm(data):\n",
    "            tree = l['treeId']\n",
    "            if l['startLocation'] != l['endLocation']: #they should all be different but just to check\n",
    "                all_tree_movements[tree].append((l['startLocation'],l['endLocation'],l['time']))\n",
    "                \n",
    "    average_freqs, upper_freqs, lower_freqs = make_pairs(all_tree_movements)\n",
    "                    \n",
    "    return average_freqs, upper_freqs, lower_freqs"
   ]
  },
  {
   "cell_type": "code",
   "execution_count": 3,
   "id": "de9b0062",
   "metadata": {},
   "outputs": [],
   "source": [
    "def make_pairs(all_tree_movements):\n",
    "\n",
    "    pairs = defaultdict(list)\n",
    "    \n",
    "    for tree, lst in all_tree_movements.items():\n",
    "        for mvmt in lst:\n",
    "            pairs[tree].append((mvmt[0], mvmt[1]))\n",
    "    \n",
    "    tree_places_counts = defaultdict(dict)\n",
    "    for tree, mvmts in (pairs.items()):\n",
    "        tree_places_counts[tree] = Counter(mvmts)\n",
    "\n",
    "    loc_freqs = defaultdict(list)\n",
    "    for tree, loc_dict in (tree_places_counts.items()):\n",
    "        for loc, count in loc_dict.items():\n",
    "            freq = count/sum(loc_dict.values())\n",
    "            loc_freqs[loc].append(freq)\n",
    "            \n",
    "    average_freqs = {}\n",
    "    lower_freqs = {}\n",
    "    upper_freqs = {}\n",
    "\n",
    "    for pair, freq_lst in loc_freqs.items():\n",
    "        average_freqs[pair] = np.mean(freq_lst)\n",
    "        upper_freqs[pair] = np.percentile(freq_lst, 97.5)\n",
    "        lower_freqs[pair] = np.percentile(freq_lst, 2.5)\n",
    "\n",
    "    return average_freqs, upper_freqs, lower_freqs"
   ]
  },
  {
   "cell_type": "code",
   "execution_count": 4,
   "id": "7572d8a9",
   "metadata": {},
   "outputs": [],
   "source": [
    "def make_map_figure(map_file, centroid_dict, average_freqs, save_name, multiplier=50):\n",
    "\n",
    "    fig, ax = plt.subplots(1,1, figsize=(10,10))\n",
    "\n",
    "    map_file.plot(ax=ax, color=\"lightgrey\", edgecolor=\"white\", linewidth=2)\n",
    "\n",
    "    for pair, freq in average_freqs.items():\n",
    "\n",
    "        start = (centroid_dict[pair[0]].x, centroid_dict[pair[0]].y)\n",
    "        end = (centroid_dict[pair[1]].x, centroid_dict[pair[1]].y)\n",
    "        width = freq*multiplier\n",
    "\n",
    "        kw = dict(color=\"slategrey\",linewidth=width)\n",
    "        liney = mpatches.FancyArrowPatch(start, end, arrowstyle=\"-\",\n",
    "                                 connectionstyle=\"arc3,rad=.5\", **kw)\n",
    "\n",
    "        ax.add_patch(liney)\n",
    "\n",
    "    ax.axis('off')\n",
    "    \n",
    "    plt.savefig(f\"{save_name}.png\", bbox_inches=\"tight\")\n",
    "    plt.savefig(f\"{save_name}.pdf\", bbox_inches=\"tight\")"
   ]
  },
  {
   "cell_type": "code",
   "execution_count": null,
   "id": "9892cf46",
   "metadata": {},
   "outputs": [],
   "source": [
    "all_movements, upper_all, lower_all = parse_jumps(markov_file)\n",
    "\n",
    "\n"
   ]
  },
  {
   "cell_type": "code",
   "execution_count": 6,
   "id": "a3cfb686",
   "metadata": {
    "collapsed": true
   },
   "outputs": [
    {
     "ename": "NameError",
     "evalue": "name 'map_file' is not defined",
     "output_type": "error",
     "traceback": [
      "\u001b[0;31m---------------------------------------------------------------------------\u001b[0m",
      "\u001b[0;31mNameError\u001b[0m                                 Traceback (most recent call last)",
      "\u001b[0;32m/var/folders/pd/bjtp4xt916vfpszlps7rr5_c0000gn/T/ipykernel_20065/1327701583.py\u001b[0m in \u001b[0;36m<module>\u001b[0;34m\u001b[0m\n\u001b[0;32m----> 1\u001b[0;31m \u001b[0mmap_file\u001b[0m\u001b[0;34m[\u001b[0m\u001b[0;34m'centroids'\u001b[0m\u001b[0;34m]\u001b[0m \u001b[0;34m=\u001b[0m \u001b[0mmap_file\u001b[0m\u001b[0;34m.\u001b[0m\u001b[0mgeometry\u001b[0m\u001b[0;34m.\u001b[0m\u001b[0mcentroid\u001b[0m\u001b[0;34m\u001b[0m\u001b[0;34m\u001b[0m\u001b[0m\n\u001b[0m\u001b[1;32m      2\u001b[0m \u001b[0mmap_file_centroid\u001b[0m \u001b[0;34m=\u001b[0m \u001b[0;34m{\u001b[0m\u001b[0;34m}\u001b[0m\u001b[0;34m\u001b[0m\u001b[0;34m\u001b[0m\u001b[0m\n\u001b[1;32m      3\u001b[0m \u001b[0;32mfor\u001b[0m \u001b[0mplace\u001b[0m\u001b[0;34m,\u001b[0m \u001b[0mcentroid\u001b[0m \u001b[0;32min\u001b[0m \u001b[0mzip\u001b[0m\u001b[0;34m(\u001b[0m\u001b[0mmap_file\u001b[0m\u001b[0;34m[\u001b[0m\u001b[0mname_of_resolution\u001b[0m\u001b[0;34m]\u001b[0m\u001b[0;34m,\u001b[0m \u001b[0mmap_file\u001b[0m\u001b[0;34m[\u001b[0m\u001b[0;34m'centroids'\u001b[0m\u001b[0;34m]\u001b[0m\u001b[0;34m)\u001b[0m\u001b[0;34m:\u001b[0m\u001b[0;34m\u001b[0m\u001b[0;34m\u001b[0m\u001b[0m\n\u001b[1;32m      4\u001b[0m     \u001b[0mmap_file_centroid\u001b[0m\u001b[0;34m[\u001b[0m\u001b[0mplace\u001b[0m\u001b[0;34m.\u001b[0m\u001b[0mreplace\u001b[0m\u001b[0;34m(\u001b[0m\u001b[0;34m\" \"\u001b[0m\u001b[0;34m,\u001b[0m\u001b[0;34m\"_\"\u001b[0m\u001b[0;34m)\u001b[0m\u001b[0;34m]\u001b[0m \u001b[0;34m=\u001b[0m \u001b[0mcentroid\u001b[0m\u001b[0;34m\u001b[0m\u001b[0;34m\u001b[0m\u001b[0m\n\u001b[1;32m      5\u001b[0m \u001b[0;34m\u001b[0m\u001b[0m\n",
      "\u001b[0;31mNameError\u001b[0m: name 'map_file' is not defined"
     ]
    }
   ],
   "source": [
    "map_file['centroids'] = map_file.geometry.centroid\n",
    "map_file_centroid = {}\n",
    "for place, centroid in zip(map_file[name_of_resolution], map_file['centroids']):\n",
    "    map_file_centroid[place.replace(\" \",\"_\")] = centroid\n",
    "    \n",
    "    \n",
    "      "
   ]
  },
  {
   "cell_type": "code",
   "execution_count": null,
   "id": "a9024d2a",
   "metadata": {},
   "outputs": [],
   "source": [
    "make_map_figure(map_file, map_file_centroid, all_movements, \"all_movements\", multiplier=50) #fiddle with multiplier to make it look nice\n",
    "\n"
   ]
  }
 ],
 "metadata": {
  "kernelspec": {
   "display_name": "Python 3 (ipykernel)",
   "language": "python",
   "name": "python3"
  },
  "language_info": {
   "codemirror_mode": {
    "name": "ipython",
    "version": 3
   },
   "file_extension": ".py",
   "mimetype": "text/x-python",
   "name": "python",
   "nbconvert_exporter": "python",
   "pygments_lexer": "ipython3",
   "version": "3.9.5"
  }
 },
 "nbformat": 4,
 "nbformat_minor": 5
}
