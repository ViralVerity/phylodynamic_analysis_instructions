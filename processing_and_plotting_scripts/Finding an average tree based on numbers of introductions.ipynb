{
 "cells": [
  {
   "cell_type": "markdown",
   "id": "96b4c037",
   "metadata": {},
   "source": [
    "This script parses movements from the CSV file produced across the whole posterior. Think carefully about how you want to class an \"introduction\" because if you want a conservative measure (i.e. once a branch has entered the location of interest, it cannot leave) you will need to parse the whole tree as this does not keep track of clades."
   ]
  },
  {
   "cell_type": "markdown",
   "id": "34c3daec",
   "metadata": {},
   "source": [
    "To generate the input file here, use the BEAST software called  TreeMarkovJumpHistoryAnalyzer (command in same folder in repo). Make sure you remove burnin in at that stage because we are assuming it has been removed for these commands"
   ]
  },
  {
   "cell_type": "code",
   "execution_count": 1,
   "id": "00c4511f",
   "metadata": {},
   "outputs": [],
   "source": [
    "import csv\n",
    "from collections import defaultdict\n",
    "import tqdm\n",
    "import numpy as np\n"
   ]
  },
  {
   "cell_type": "code",
   "execution_count": 20,
   "id": "da068e94",
   "metadata": {},
   "outputs": [],
   "source": [
    "markov_file = \"\"\n"
   ]
  },
  {
   "cell_type": "code",
   "execution_count": 15,
   "id": "156c031f",
   "metadata": {},
   "outputs": [],
   "source": [
    "def parse_jumps(markov_file):\n",
    "\n",
    "    all_tree_movements = defaultdict(list)\n",
    "\n",
    "    with open(markov_file) as f:\n",
    "        data = csv.DictReader(f)\n",
    "        for l in tqdm.tqdm(data):\n",
    "            tree = l['treeId']\n",
    "            if l['startLocation'] != l['endLocation']: #they should all be different but just to check\n",
    "                all_tree_movements[tree].append((l['startLocation'],l['endLocation'],l['time']))\n",
    "                \n",
    "                    \n",
    "    return all_tree_movements"
   ]
  },
  {
   "cell_type": "code",
   "execution_count": 13,
   "id": "352357ab",
   "metadata": {},
   "outputs": [
    {
     "name": "stderr",
     "output_type": "stream",
     "text": [
      "987126it [00:02, 342248.68it/s]\n"
     ]
    }
   ],
   "source": [
    "all_tree_movements = parse_jumps(test_file)"
   ]
  },
  {
   "cell_type": "code",
   "execution_count": 23,
   "id": "5c1d7fa7",
   "metadata": {},
   "outputs": [],
   "source": [
    "location_of_interest = [\"Connecticut\"]\n",
    "\n",
    "introductions = {}\n",
    "\n",
    "for tree, movements in all_tree_movements.items():\n",
    "    introductions[tree] = 0\n",
    "    for pair in movements:\n",
    "        end_loc = pair[1]\n",
    "        start_loc = pair[0]\n",
    "        \n",
    "        if end_loc in location_of_interest and start_loc not in location_of_interest:\n",
    "            introductions[tree] += 1     "
   ]
  },
  {
   "cell_type": "code",
   "execution_count": 26,
   "id": "30a47fc1",
   "metadata": {},
   "outputs": [],
   "source": [
    "average_num_introductions = np.mean(list(introductions.values()))\n",
    "print(average_num_introductions)"
   ]
  },
  {
   "cell_type": "code",
   "execution_count": 34,
   "id": "fd1e9349",
   "metadata": {},
   "outputs": [
    {
     "name": "stdout",
     "output_type": "stream",
     "text": [
      "10000000\n"
     ]
    }
   ],
   "source": [
    "difference = {}\n",
    "for tree, num_intros in introductions.items():\n",
    "    difference[tree] = abs(num_intros - average_num_introductions)\n",
    "    \n",
    "average_tree = min(difference, key=difference.get)\n",
    "print(average_tree)"
   ]
  },
  {
   "cell_type": "code",
   "execution_count": null,
   "id": "c5ca28e6",
   "metadata": {},
   "outputs": [],
   "source": []
  }
 ],
 "metadata": {
  "kernelspec": {
   "display_name": "Python 3 (ipykernel)",
   "language": "python",
   "name": "python3"
  },
  "language_info": {
   "codemirror_mode": {
    "name": "ipython",
    "version": 3
   },
   "file_extension": ".py",
   "mimetype": "text/x-python",
   "name": "python",
   "nbconvert_exporter": "python",
   "pygments_lexer": "ipython3",
   "version": "3.9.5"
  }
 },
 "nbformat": 4,
 "nbformat_minor": 5
}
