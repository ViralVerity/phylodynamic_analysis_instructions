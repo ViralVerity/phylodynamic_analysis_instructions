{
 "cells": [
  {
   "cell_type": "markdown",
   "id": "ae3e8e41",
   "metadata": {},
   "source": [
    "Exactly how you approach this depends on your tree.\n",
    "\n",
    "This is mostly for if you have a bunch of locations you're interested in seeing how the virus is moving between them, and clustes involving those locations are spread across the tree. \n",
    "\n",
    "If they are not spread across the tree, you can simplify this down but this script should work anyway.\n",
    "\n",
    "Frequencies are in terms of just the locations of interest - i.e. if you only have two locations and it's all from point A to point B, that movement will show up as 100% (regardless of the rest of the tree)"
   ]
  },
  {
   "cell_type": "markdown",
   "id": "80f45acd",
   "metadata": {},
   "source": [
    "NB I'm still working on the map but it's currently making me want to scream because the package is not amazing so I'm going to come back to it"
   ]
  },
  {
   "cell_type": "code",
   "execution_count": 1,
   "id": "4a721594",
   "metadata": {},
   "outputs": [],
   "source": [
    "import matplotlib.pyplot as plt\n",
    "from collections import defaultdict\n",
    "from collections import Counter\n",
    "import numpy as np\n",
    "import csv\n",
    "import tqdm\n",
    "import seaborn as sns\n",
    "import pandas as pd\n",
    "import geopandas as gpd\n",
    "import matplotlib.patches as mpatches\n",
    "import matplotlib.colors as col\n",
    "\n",
    "import networkx as nx\n",
    "import joypy\n",
    "from splot.mapping import vba_choropleth\n",
    "from splot._viz_utils import shift_colormap\n",
    "import mapclassify\n",
    "from math import radians, cos, sin, asin, sqrt"
   ]
  },
  {
   "cell_type": "code",
   "execution_count": 69,
   "id": "a5bfdae7",
   "metadata": {},
   "outputs": [],
   "source": [
    "#example files while I keep working on the map which has magically stopped working\n",
    "map_file = gpd.read_file(\"/Users/verityhill/GLab Dropbox/GLab_team/Projects/2022_EEEV/data/geographical/east_coast.json\")\n",
    "location_list = [\"Connecticut\", \"Florida\", \"Massachusetts\"]\n",
    "markov_file = \"/Users/verityhill/GLab Dropbox/GLab_team/Projects/2022_EEEV/results/final_beast_runs/DTA/DTA_all_states.jumps.csv\"\n",
    "name_of_resolution = \"NAME_1\" #eg \"state\" if that's what level you're plotting at and that's what it's called in the map json"
   ]
  },
  {
   "cell_type": "code",
   "execution_count": 48,
   "id": "b2611486",
   "metadata": {},
   "outputs": [],
   "source": [
    "def parse_jumps(markov_file):\n",
    "\n",
    "    all_tree_movements = defaultdict(list)\n",
    "\n",
    "    with open(markov_file) as f:\n",
    "        data = csv.DictReader(f)\n",
    "        for l in tqdm.tqdm(data):\n",
    "            tree = l['treeId']\n",
    "            if l['startLocation'] != l['endLocation']: #they should all be different but just to check\n",
    "                all_tree_movements[tree].append((l['startLocation'],l['endLocation'],l['time']))\n",
    "                \n",
    "    return all_tree_movements"
   ]
  },
  {
   "cell_type": "code",
   "execution_count": 49,
   "id": "ca031750",
   "metadata": {},
   "outputs": [],
   "source": [
    "def make_mvmt_df(source, all_tree_movements, location_list):\n",
    "    \n",
    "    starting_locs = defaultdict(list)\n",
    "    \n",
    "    if source:\n",
    "        index=0\n",
    "        title = \"start_location\"\n",
    "    else:\n",
    "        index=1\n",
    "        title = \"end_location\"\n",
    "\n",
    "    for tree, lst in all_tree_movements.items():\n",
    "        for mvmt in lst:\n",
    "            if mvmt[index] in location_list:\n",
    "                starting_locs[tree].append(mvmt[index])\n",
    "   \n",
    "    tree_places_counts = defaultdict(dict)\n",
    "    for tree, mvmts in starting_locs.items():\n",
    "        tree_places_counts[tree] = Counter(mvmts)\n",
    "        \n",
    "    loc_freqs = defaultdict(list)\n",
    "    for tree, loc_dict in tree_places_counts.items():\n",
    "        for loc, count in loc_dict.items():\n",
    "            freq = count/sum(loc_dict.values())\n",
    "            loc_freqs[loc].append(freq)\n",
    "        for location in location_list:\n",
    "            if location not in loc_dict:\n",
    "                loc_freqs[location].append(0)\n",
    "                \n",
    "    df_dict = defaultdict(list)\n",
    "    for loc,mvmt_list in loc_freqs.items():\n",
    "        for i in mvmt_list:\n",
    "            df_dict[\"frequency\"].append(i)\n",
    "            df_dict[title].append(loc)\n",
    "\n",
    "    df = pd.DataFrame(df_dict)\n",
    "\n",
    "    return loc_freqs, df"
   ]
  },
  {
   "cell_type": "code",
   "execution_count": 50,
   "id": "3243faf9",
   "metadata": {},
   "outputs": [
    {
     "name": "stderr",
     "output_type": "stream",
     "text": [
      "987126it [00:03, 327643.07it/s]\n"
     ]
    }
   ],
   "source": [
    "all_movements = parse_jumps(markov_file)\n",
    "source_freqs, source_df = make_mvmt_df(True, all_movements, location_list)\n",
    "sink_freqs, sink_df = make_mvmt_df(False, all_movements, location_list)\n"
   ]
  },
  {
   "cell_type": "code",
   "execution_count": 51,
   "id": "2fd1839d",
   "metadata": {},
   "outputs": [],
   "source": [
    "df_dict = defaultdict(list)\n",
    "average_sources = {}\n",
    "average_sinks = {}\n",
    "\n",
    "for location, freqs in source_freqs.items():\n",
    "    mean = np.mean(freqs)\n",
    "    upper = np.percentile(freqs, 97.5).round(4)\n",
    "    lower = np.percentile(freqs, 2.5).round(4)\n",
    "        \n",
    "    sink_list = sink_freqs[location]\n",
    "    sink_mean = np.mean(sink_list)\n",
    "    sink_upper = np.percentile(sink_list, 97.5).round(4)\n",
    "    sink_lower = np.percentile(sink_list, 2.5).round(4)\n",
    "    \n",
    "    df_dict[\"location\"].append(location)\n",
    "    df_dict[\"average_source\"].append(mean)\n",
    "    df_dict[\"HPD_source\"].append(f'{lower},{upper}')\n",
    "    \n",
    "    df_dict[\"average_sink\"].append(sink_mean)\n",
    "    df_dict[\"HPD_sink\"].append(f'{sink_lower},{sink_upper}')\n",
    "    \n",
    "    average_sources[location] = mean\n",
    "    average_sinks[location] = sink_mean\n",
    "\n",
    "    \n",
    "df = pd.DataFrame(df_dict)\n",
    "df.to_csv(\"source_sink_values.csv\")"
   ]
  },
  {
   "cell_type": "code",
   "execution_count": 52,
   "id": "18427490",
   "metadata": {},
   "outputs": [
    {
     "name": "stdout",
     "output_type": "stream",
     "text": [
      "{'Florida': 0.8662541687512191, 'Massachusetts': 0.11004249180016973, 'Connecticut': 0.0237033394486112}\n",
      "{'Massachusetts': 0.5073155615910545, 'Connecticut': 0.4764342962344719, 'Florida': 0.01625014217447365}\n"
     ]
    }
   ],
   "source": [
    "print({k:v for k,v in sorted(average_sources.items(), key=lambda item: item[1], reverse=True)})\n",
    "print({k:v for k,v in sorted(average_sinks.items(), key=lambda item: item[1], reverse=True)})"
   ]
  },
  {
   "cell_type": "markdown",
   "id": "d08620e6",
   "metadata": {},
   "source": [
    "## plot this"
   ]
  },
  {
   "cell_type": "markdown",
   "id": "3ff6c124",
   "metadata": {},
   "source": [
    "Decide on bins based on what the values are so that you can see the differences clearly\n"
   ]
  },
  {
   "cell_type": "code",
   "execution_count": 74,
   "id": "be09d305",
   "metadata": {},
   "outputs": [
    {
     "data": {
      "text/html": [
       "<div>\n",
       "<style scoped>\n",
       "    .dataframe tbody tr th:only-of-type {\n",
       "        vertical-align: middle;\n",
       "    }\n",
       "\n",
       "    .dataframe tbody tr th {\n",
       "        vertical-align: top;\n",
       "    }\n",
       "\n",
       "    .dataframe thead th {\n",
       "        text-align: right;\n",
       "    }\n",
       "</style>\n",
       "<table border=\"1\" class=\"dataframe\">\n",
       "  <thead>\n",
       "    <tr style=\"text-align: right;\">\n",
       "      <th></th>\n",
       "      <th>ID_0</th>\n",
       "      <th>COUNTRY</th>\n",
       "      <th>ID_1</th>\n",
       "      <th>NAME_1</th>\n",
       "      <th>VARNAME_1</th>\n",
       "      <th>NL_NAME_1</th>\n",
       "      <th>TYPE_1</th>\n",
       "      <th>ENGTYPE_1</th>\n",
       "      <th>CC_1</th>\n",
       "      <th>HASC_1</th>\n",
       "      <th>ISO_1</th>\n",
       "      <th>clean_name</th>\n",
       "      <th>geometry</th>\n",
       "      <th>location</th>\n",
       "      <th>average_source</th>\n",
       "      <th>HPD_source</th>\n",
       "      <th>average_sink</th>\n",
       "      <th>HPD_sink</th>\n",
       "    </tr>\n",
       "  </thead>\n",
       "  <tbody>\n",
       "    <tr>\n",
       "      <th>0</th>\n",
       "      <td>USA</td>\n",
       "      <td>United States</td>\n",
       "      <td>USA.7_1</td>\n",
       "      <td>Connecticut</td>\n",
       "      <td>CT|Conn.</td>\n",
       "      <td></td>\n",
       "      <td>State</td>\n",
       "      <td>State</td>\n",
       "      <td></td>\n",
       "      <td>US.CT</td>\n",
       "      <td></td>\n",
       "      <td>Connecticut</td>\n",
       "      <td>POLYGON ((-73.66064 40.98889, -73.60033 41.018...</td>\n",
       "      <td>Connecticut</td>\n",
       "      <td>0.023703</td>\n",
       "      <td>0.0,0.09</td>\n",
       "      <td>0.476434</td>\n",
       "      <td>0.4054,0.5385</td>\n",
       "    </tr>\n",
       "    <tr>\n",
       "      <th>1</th>\n",
       "      <td>USA</td>\n",
       "      <td>United States</td>\n",
       "      <td>USA.10_1</td>\n",
       "      <td>Florida</td>\n",
       "      <td>FL|Fla.</td>\n",
       "      <td></td>\n",
       "      <td>State</td>\n",
       "      <td>State</td>\n",
       "      <td></td>\n",
       "      <td>US.FL</td>\n",
       "      <td></td>\n",
       "      <td>Florida</td>\n",
       "      <td>MULTIPOLYGON (((-81.79514 24.59320, -81.81238 ...</td>\n",
       "      <td>Florida</td>\n",
       "      <td>0.866254</td>\n",
       "      <td>0.8058,0.9118</td>\n",
       "      <td>0.016250</td>\n",
       "      <td>0.0,0.0833</td>\n",
       "    </tr>\n",
       "    <tr>\n",
       "      <th>2</th>\n",
       "      <td>USA</td>\n",
       "      <td>United States</td>\n",
       "      <td>USA.22_1</td>\n",
       "      <td>Massachusetts</td>\n",
       "      <td>Commonwealth of Massachusetts|MA|Mass.</td>\n",
       "      <td></td>\n",
       "      <td>State</td>\n",
       "      <td>State</td>\n",
       "      <td></td>\n",
       "      <td>US.MA</td>\n",
       "      <td></td>\n",
       "      <td>Massachusetts</td>\n",
       "      <td>MULTIPOLYGON (((-70.59742 41.47966, -70.65741 ...</td>\n",
       "      <td>Massachusetts</td>\n",
       "      <td>0.110042</td>\n",
       "      <td>0.0532,0.1604</td>\n",
       "      <td>0.507316</td>\n",
       "      <td>0.4444,0.5676</td>\n",
       "    </tr>\n",
       "  </tbody>\n",
       "</table>\n",
       "</div>"
      ],
      "text/plain": [
       "  ID_0        COUNTRY      ID_1         NAME_1  \\\n",
       "0  USA  United States   USA.7_1    Connecticut   \n",
       "1  USA  United States  USA.10_1        Florida   \n",
       "2  USA  United States  USA.22_1  Massachusetts   \n",
       "\n",
       "                                VARNAME_1 NL_NAME_1 TYPE_1 ENGTYPE_1 CC_1  \\\n",
       "0                                CT|Conn.            State     State        \n",
       "1                                 FL|Fla.            State     State        \n",
       "2  Commonwealth of Massachusetts|MA|Mass.            State     State        \n",
       "\n",
       "  HASC_1 ISO_1     clean_name  \\\n",
       "0  US.CT          Connecticut   \n",
       "1  US.FL              Florida   \n",
       "2  US.MA        Massachusetts   \n",
       "\n",
       "                                            geometry       location  \\\n",
       "0  POLYGON ((-73.66064 40.98889, -73.60033 41.018...    Connecticut   \n",
       "1  MULTIPOLYGON (((-81.79514 24.59320, -81.81238 ...        Florida   \n",
       "2  MULTIPOLYGON (((-70.59742 41.47966, -70.65741 ...  Massachusetts   \n",
       "\n",
       "   average_source     HPD_source  average_sink       HPD_sink  \n",
       "0        0.023703       0.0,0.09      0.476434  0.4054,0.5385  \n",
       "1        0.866254  0.8058,0.9118      0.016250     0.0,0.0833  \n",
       "2        0.110042  0.0532,0.1604      0.507316  0.4444,0.5676  "
      ]
     },
     "execution_count": 74,
     "metadata": {},
     "output_type": "execute_result"
    }
   ],
   "source": [
    "with_movements"
   ]
  },
  {
   "cell_type": "code",
   "execution_count": 178,
   "id": "bada7c36",
   "metadata": {},
   "outputs": [
    {
     "data": {
      "image/png": "[encoded data removed]",
      "text/plain": [
       "<Figure size 720x720 with 2 Axes>"
      ]
     },
     "metadata": {
      "needs_background": "light"
     },
     "output_type": "display_data"
    }
   ],
   "source": [
    "custom_cmap = col.LinearSegmentedColormap.from_list(\"\", [\"#8b0000\",\"#9673A5\", \"#23395D\"])\n",
    "custom_cmap\n",
    "\n",
    "\n",
    "# def make_source_sink_map(map_file, df, bins_source, bins_sink, save_name):\n",
    "\n",
    "map_file['location'] = map_file[name_of_resolution]\n",
    "\n",
    "with_movements = map_file.merge(df)\n",
    "\n",
    "fig, ax = plt.subplots(1,1, figsize=(10,10))\n",
    "\n",
    "x = with_movements[\"average_source\"]\n",
    "y = with_movements[\"average_sink\"]\n",
    "\n",
    "map_file.plot(ax=ax, edgecolor=\"black\", color=\"whitesmoke\", linewidth=1)\n",
    "with_movements.plot(color=\"white\", ax=ax)\n",
    "color_list = ['#a1dab4','#41b6c4','#225ea8']\n",
    "vba_choropleth(x,y, with_movements, ax=ax, cmap=color_list, rgb_mapclassify=dict(classifier=\"natural_breaks\", k=3),\n",
    "               alpha_mapclassify=dict(classifier=\"natural_breaks\", k=3), revert_alpha=False, divergent=True,\n",
    "               legend=True)\n",
    "\n",
    "\n",
    "plt.show()   \n",
    "#     plt.savefig(f\"../figures/components/{save_name}.pdf\", bbox_inches=\"tight\")\n"
   ]
  },
  {
   "cell_type": "code",
   "execution_count": null,
   "id": "358560f1",
   "metadata": {},
   "outputs": [],
   "source": []
  }
 ],
 "metadata": {
  "kernelspec": {
   "display_name": "Python 3 (ipykernel)",
   "language": "python",
   "name": "python3"
  },
  "language_info": {
   "codemirror_mode": {
    "name": "ipython",
    "version": 3
   },
   "file_extension": ".py",
   "mimetype": "text/x-python",
   "name": "python",
   "nbconvert_exporter": "python",
   "pygments_lexer": "ipython3",
   "version": "3.9.5"
  }
 },
 "nbformat": 4,
 "nbformat_minor": 5
}
